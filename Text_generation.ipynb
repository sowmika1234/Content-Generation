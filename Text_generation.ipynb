{
  "nbformat": 4,
  "nbformat_minor": 0,
  "metadata": {
    "colab": {
      "provenance": []
    },
    "kernelspec": {
      "name": "python3",
      "display_name": "Python 3"
    },
    "language_info": {
      "name": "python"
    }
  },
  "cells": [
    {
      "cell_type": "markdown",
      "source": [
        "**Import the necessary modules**"
      ],
      "metadata": {
        "id": "2Ak1GiD0Ozby"
      }
    },
    {
      "cell_type": "code",
      "source": [
        "!pip install transformers"
      ],
      "metadata": {
        "id": "Uiqa-jwT_x2-"
      },
      "execution_count": null,
      "outputs": []
    },
    {
      "cell_type": "code",
      "execution_count": null,
      "metadata": {
        "id": "pF9qr8dPb1u1"
      },
      "outputs": [],
      "source": [
        "!pip install git+https://github.com/PrithivirajDamodaran/Gramformer.git"
      ]
    },
    {
      "cell_type": "code",
      "source": [
        "!pip install -U pip setuptools wheel\n",
        "!pip install -U spacy\n",
        "!python -m spacy download en_core_web_sm"
      ],
      "metadata": {
        "id": "YsnvWjx4b7_F"
      },
      "execution_count": null,
      "outputs": []
    },
    {
      "cell_type": "code",
      "source": [
        "!pip install git+https://github.com/PrithivirajDamodaran/Gramformer.git"
      ],
      "metadata": {
        "id": "UqJ_A2NHc_W4"
      },
      "execution_count": null,
      "outputs": []
    },
    {
      "cell_type": "code",
      "source": [
        "!python -m spacy download en_core_web_md\n",
        "!python -m spacy link en_core_web_md en"
      ],
      "metadata": {
        "id": "-zeo9cqkdXnD"
      },
      "execution_count": null,
      "outputs": []
    },
    {
      "cell_type": "code",
      "source": [
        "import spacy\n",
        "spacy.load('en')"
      ],
      "metadata": {
        "id": "VbKQdtPOb_J6"
      },
      "execution_count": null,
      "outputs": []
    },
    {
      "cell_type": "code",
      "source": [
        "!pip3 install torch torchvision torchaudio --index-url https://download.pytorch.org/whl/cu117"
      ],
      "metadata": {
        "id": "p0xyQwZ_d8zy"
      },
      "execution_count": null,
      "outputs": []
    },
    {
      "cell_type": "code",
      "source": [
        "!pip install gradio"
      ],
      "metadata": {
        "id": "dkV1MoQodv8H"
      },
      "execution_count": null,
      "outputs": []
    },
    {
      "cell_type": "markdown",
      "source": [
        "**Use Gramformer module to correct the input grammatically**"
      ],
      "metadata": {
        "id": "9nIvBdWpPKq1"
      }
    },
    {
      "cell_type": "code",
      "source": [
        "from gramformer import Gramformer"
      ],
      "metadata": {
        "id": "rUBzl0TSc1Xu"
      },
      "execution_count": 9,
      "outputs": []
    },
    {
      "cell_type": "code",
      "source": [
        "gf = Gramformer(models=1, use_gpu=False) # 0 = detector, 1 = highlighter, 2 = corrector, 3 = all"
      ],
      "metadata": {
        "id": "QFoWYMKndIFo"
      },
      "execution_count": null,
      "outputs": []
    },
    {
      "cell_type": "markdown",
      "source": [
        "**Create and Instantiate the model**"
      ],
      "metadata": {
        "id": "ArtRIkZaQyM5"
      }
    },
    {
      "cell_type": "code",
      "source": [
        "#install the necessary modules\n",
        "from transformers import GPT2Tokenizer, GPT2LMHeadModel"
      ],
      "metadata": {
        "id": "nz_nS2rreena"
      },
      "execution_count": 11,
      "outputs": []
    },
    {
      "cell_type": "code",
      "source": [
        "\n",
        "\n",
        "#create the tokenizer for the model to tokenize the input string and convert it into vector form\n",
        "tokenizer = GPT2Tokenizer.from_pretrained('gpt2-large')\n",
        "#create the model\n",
        "model = GPT2LMHeadModel.from_pretrained('gpt2-large', pad_token_id=tokenizer.eos_token_id)\n",
        "#It helps in decoding the numeric representation to word representation.\n",
        "tokenizer.decode(tokenizer.eos_token_id)"
      ],
      "metadata": {
        "id": "W5WMgEFc_4VN"
      },
      "execution_count": null,
      "outputs": []
    },
    {
      "cell_type": "markdown",
      "source": [
        "**Using Gradio to display the output as a web application**"
      ],
      "metadata": {
        "id": "GiwLl8IXPV5n"
      }
    },
    {
      "cell_type": "code",
      "source": [
        "#Function used to correct the grammar of the input and with the help of GPT-2 model it is used to generate the next n words and return the generated text\n",
        "import gradio as gr\n",
        "def correct(sentence,textbox):\n",
        "\n",
        "    res = gf.correct(sentence) # Gramformer correct\n",
        "    inp=str(list(res)[0])\n",
        "\n",
        "    #predict next n words and return\n",
        "    length=int(textbox)\n",
        "    numeric_ids = tokenizer.encode(inp, return_tensors = 'pt')\n",
        "    result = model.generate(numeric_ids, max_length = length, num_beams=5, no_repeat_ngram_size=2, early_stopping=True)\n",
        "    generated_text = tokenizer.decode(result[0], skip_special_tokens=True)\n",
        "    return generated_text\n",
        "\n",
        "\n",
        ""
      ],
      "metadata": {
        "id": "_qzHw14aeOyi"
      },
      "execution_count": 13,
      "outputs": []
    },
    {
      "cell_type": "code",
      "source": [
        "app_inputs = [gr.inputs.Textbox(lines=2, placeholder=\"Enter sentence here...\",label='Input Text'),gr.inputs.Textbox(lines=2, placeholder=\"Enter number of words here...\",label='Number of words')]"
      ],
      "metadata": {
        "id": "f3FsV0WIeXBG"
      },
      "execution_count": null,
      "outputs": []
    },
    {
      "cell_type": "code",
      "source": [
        "interface = gr.Interface(fn=correct,\n",
        "                        inputs=app_inputs,\n",
        "                         outputs='text',\n",
        "                        title='Text Generation App')"
      ],
      "metadata": {
        "id": "RxlcfJoKeZHE"
      },
      "execution_count": 15,
      "outputs": []
    },
    {
      "cell_type": "code",
      "source": [
        "interface.launch()"
      ],
      "metadata": {
        "id": "jSOA3D8DebOq"
      },
      "execution_count": null,
      "outputs": []
    },
    {
      "cell_type": "code",
      "source": [],
      "metadata": {
        "id": "COrcmqPvUBBs"
      },
      "execution_count": null,
      "outputs": []
    }
  ]
}